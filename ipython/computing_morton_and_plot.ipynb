{
 "cells": [
  {
   "cell_type": "markdown",
   "id": "567944e5-c2c2-4b78-8158-49c1b2cdfe39",
   "metadata": {},
   "source": [
    "## This is the script to compute the morton codes and plot them. For compuing, it read 6 mean roi values, feed to zCuve model to compute one big number out, so there will be one number for each frame at the end. Then plot these numbers, so one plot for each sequence.  "
   ]
  },
  {
   "cell_type": "code",
   "execution_count": 1,
   "id": "50d1d689-54cc-40d1-97bc-ee9335a84416",
   "metadata": {},
   "outputs": [],
   "source": [
    "import zCurve as z\n",
    "import csv\n",
    "import os\n",
    "import numpy as np\n",
    "import pandas as pd\n",
    "import glob\n",
    "import json \n",
    "import matplotlib.pyplot as plt"
   ]
  },
  {
   "cell_type": "code",
   "execution_count": 99,
   "id": "7b36d038-2791-4cda-9915-8b9da039ebff",
   "metadata": {},
   "outputs": [],
   "source": [
    "def calculateMortonFromList_with_zCurve(values):\n",
    "    # Cap floating point numbers to one decimal place and convert to integers\n",
    "    int_values = [int(round(value, 1) * 10) for value in values]\n",
    "    value = z.interlace(*int_values, dims=len(int_values))\n",
    "    return value  "
   ]
  },
  {
   "cell_type": "code",
   "execution_count": 100,
   "id": "73a0c476-a6bf-47bb-b73e-24997f082d9c",
   "metadata": {},
   "outputs": [
    {
     "data": {
      "text/html": [
       "<div>\n",
       "<style scoped>\n",
       "    .dataframe tbody tr th:only-of-type {\n",
       "        vertical-align: middle;\n",
       "    }\n",
       "\n",
       "    .dataframe tbody tr th {\n",
       "        vertical-align: top;\n",
       "    }\n",
       "\n",
       "    .dataframe thead th {\n",
       "        text-align: right;\n",
       "    }\n",
       "</style>\n",
       "<table border=\"1\" class=\"dataframe\">\n",
       "  <thead>\n",
       "    <tr style=\"text-align: right;\">\n",
       "      <th></th>\n",
       "      <th>frame</th>\n",
       "      <th>cell_1</th>\n",
       "      <th>cell_2</th>\n",
       "      <th>cell_3</th>\n",
       "      <th>cell_4</th>\n",
       "      <th>cell_5</th>\n",
       "      <th>cell_6</th>\n",
       "    </tr>\n",
       "  </thead>\n",
       "  <tbody>\n",
       "    <tr>\n",
       "      <th>0</th>\n",
       "      <td>child/Y4kC5HWcultxGWAhuKdZw/cam000006.png</td>\n",
       "      <td>0.002120</td>\n",
       "      <td>0.028477</td>\n",
       "      <td>4.688508</td>\n",
       "      <td>0.375582</td>\n",
       "      <td>0.316727</td>\n",
       "      <td>0.124537</td>\n",
       "    </tr>\n",
       "    <tr>\n",
       "      <th>1</th>\n",
       "      <td>child/XpIss6USqq1CvIRb2weqE/cam000280.png</td>\n",
       "      <td>0.002110</td>\n",
       "      <td>0.000000</td>\n",
       "      <td>2.135890</td>\n",
       "      <td>0.193213</td>\n",
       "      <td>0.324183</td>\n",
       "      <td>0.152763</td>\n",
       "    </tr>\n",
       "    <tr>\n",
       "      <th>2</th>\n",
       "      <td>child/BLt5th4KUYDe4tqqwQEbN/cam000128.png</td>\n",
       "      <td>0.000000</td>\n",
       "      <td>0.000000</td>\n",
       "      <td>3.505804</td>\n",
       "      <td>0.553993</td>\n",
       "      <td>0.531435</td>\n",
       "      <td>0.161224</td>\n",
       "    </tr>\n",
       "    <tr>\n",
       "      <th>3</th>\n",
       "      <td>child/1zJO0PfH4rKy8MOl5x5di/cam000035.png</td>\n",
       "      <td>0.000699</td>\n",
       "      <td>0.000000</td>\n",
       "      <td>0.040380</td>\n",
       "      <td>28.866972</td>\n",
       "      <td>11.626774</td>\n",
       "      <td>0.130466</td>\n",
       "    </tr>\n",
       "    <tr>\n",
       "      <th>4</th>\n",
       "      <td>child/0i0Pv5GElXKQI1OoIHfbY/cam000025.png</td>\n",
       "      <td>8.619019</td>\n",
       "      <td>30.753439</td>\n",
       "      <td>0.462520</td>\n",
       "      <td>0.417660</td>\n",
       "      <td>0.377722</td>\n",
       "      <td>0.113543</td>\n",
       "    </tr>\n",
       "    <tr>\n",
       "      <th>...</th>\n",
       "      <td>...</td>\n",
       "      <td>...</td>\n",
       "      <td>...</td>\n",
       "      <td>...</td>\n",
       "      <td>...</td>\n",
       "      <td>...</td>\n",
       "      <td>...</td>\n",
       "    </tr>\n",
       "    <tr>\n",
       "      <th>69296</th>\n",
       "      <td>child/FUTcU9qixnZnRtUKfR73U/cam000022.png</td>\n",
       "      <td>0.000000</td>\n",
       "      <td>0.000000</td>\n",
       "      <td>0.891905</td>\n",
       "      <td>2.648956</td>\n",
       "      <td>0.357865</td>\n",
       "      <td>0.112293</td>\n",
       "    </tr>\n",
       "    <tr>\n",
       "      <th>69297</th>\n",
       "      <td>child/Hg5IVmPBKY2WzuemE7p6J/cam000033.png</td>\n",
       "      <td>0.000320</td>\n",
       "      <td>0.000000</td>\n",
       "      <td>0.100777</td>\n",
       "      <td>2.350223</td>\n",
       "      <td>0.330376</td>\n",
       "      <td>0.116829</td>\n",
       "    </tr>\n",
       "    <tr>\n",
       "      <th>69298</th>\n",
       "      <td>child/4C874IC44CDuep4rdQFIN/cam000171.png</td>\n",
       "      <td>0.000283</td>\n",
       "      <td>0.000000</td>\n",
       "      <td>0.047996</td>\n",
       "      <td>29.854540</td>\n",
       "      <td>1.106992</td>\n",
       "      <td>0.164594</td>\n",
       "    </tr>\n",
       "    <tr>\n",
       "      <th>69299</th>\n",
       "      <td>child/kJEr4oDRPCYEqv6dQgu6o/cam000043.png</td>\n",
       "      <td>0.000000</td>\n",
       "      <td>0.000000</td>\n",
       "      <td>33.496441</td>\n",
       "      <td>0.542867</td>\n",
       "      <td>0.287053</td>\n",
       "      <td>0.116550</td>\n",
       "    </tr>\n",
       "    <tr>\n",
       "      <th>69300</th>\n",
       "      <td>child/BfgWgco7fCsDHqwGo90rD/cam000014.png</td>\n",
       "      <td>0.008677</td>\n",
       "      <td>0.000000</td>\n",
       "      <td>0.018117</td>\n",
       "      <td>0.391891</td>\n",
       "      <td>10.645971</td>\n",
       "      <td>21.999657</td>\n",
       "    </tr>\n",
       "  </tbody>\n",
       "</table>\n",
       "<p>69301 rows × 7 columns</p>\n",
       "</div>"
      ],
      "text/plain": [
       "                                           frame    cell_1     cell_2  \\\n",
       "0      child/Y4kC5HWcultxGWAhuKdZw/cam000006.png  0.002120   0.028477   \n",
       "1      child/XpIss6USqq1CvIRb2weqE/cam000280.png  0.002110   0.000000   \n",
       "2      child/BLt5th4KUYDe4tqqwQEbN/cam000128.png  0.000000   0.000000   \n",
       "3      child/1zJO0PfH4rKy8MOl5x5di/cam000035.png  0.000699   0.000000   \n",
       "4      child/0i0Pv5GElXKQI1OoIHfbY/cam000025.png  8.619019  30.753439   \n",
       "...                                          ...       ...        ...   \n",
       "69296  child/FUTcU9qixnZnRtUKfR73U/cam000022.png  0.000000   0.000000   \n",
       "69297  child/Hg5IVmPBKY2WzuemE7p6J/cam000033.png  0.000320   0.000000   \n",
       "69298  child/4C874IC44CDuep4rdQFIN/cam000171.png  0.000283   0.000000   \n",
       "69299  child/kJEr4oDRPCYEqv6dQgu6o/cam000043.png  0.000000   0.000000   \n",
       "69300  child/BfgWgco7fCsDHqwGo90rD/cam000014.png  0.008677   0.000000   \n",
       "\n",
       "          cell_3     cell_4     cell_5     cell_6  \n",
       "0       4.688508   0.375582   0.316727   0.124537  \n",
       "1       2.135890   0.193213   0.324183   0.152763  \n",
       "2       3.505804   0.553993   0.531435   0.161224  \n",
       "3       0.040380  28.866972  11.626774   0.130466  \n",
       "4       0.462520   0.417660   0.377722   0.113543  \n",
       "...          ...        ...        ...        ...  \n",
       "69296   0.891905   2.648956   0.357865   0.112293  \n",
       "69297   0.100777   2.350223   0.330376   0.116829  \n",
       "69298   0.047996  29.854540   1.106992   0.164594  \n",
       "69299  33.496441   0.542867   0.287053   0.116550  \n",
       "69300   0.018117   0.391891  10.645971  21.999657  \n",
       "\n",
       "[69301 rows x 7 columns]"
      ]
     },
     "execution_count": 100,
     "metadata": {},
     "output_type": "execute_result"
    }
   ],
   "source": [
    "roi_mean_values = pd.read_csv('../outputs/smirk_roi_mean_values.csv')\n",
    "roi_mean_values"
   ]
  },
  {
   "cell_type": "code",
   "execution_count": 101,
   "id": "4ea5fad8-5269-45f2-97f1-3002de7ae760",
   "metadata": {},
   "outputs": [
    {
     "data": {
      "text/plain": [
       "['cell_1', 'cell_2', 'cell_3', 'cell_4', 'cell_5', 'cell_6']"
      ]
     },
     "execution_count": 101,
     "metadata": {},
     "output_type": "execute_result"
    }
   ],
   "source": [
    "cell_columns = [col for col in roi_mean_values.columns if col.startswith(\"cell\")]\n",
    "cell_columns"
   ]
  },
  {
   "cell_type": "code",
   "execution_count": 102,
   "id": "05038085-2d8b-4964-a4de-17a7bc2b7efb",
   "metadata": {},
   "outputs": [
    {
     "name": "stdout",
     "output_type": "stream",
     "text": [
      "frame_roi: \n",
      " frame     child/Y4kC5HWcultxGWAhuKdZw/cam000006.png\n",
      "cell_1                                      0.00212\n",
      "cell_2                                     0.028477\n",
      "cell_3                                     4.688508\n",
      "cell_4                                     0.375582\n",
      "cell_5                                     0.316727\n",
      "cell_6                                     0.124537\n",
      "Name: 0, dtype: object\n",
      "morton: \n",
      "  4296066356\n"
     ]
    }
   ],
   "source": [
    "for _, row in roi_mean_values.iterrows():\n",
    "    print('frame_roi: \\n', row)\n",
    "    value = calculateMortonFromList_with_zCurve(row[col] for col in cell_columns)\n",
    "    print('morton: \\n ', value)\n",
    "    break"
   ]
  },
  {
   "cell_type": "code",
   "execution_count": 6,
   "id": "49af2fce-0381-4000-b7c5-084b1ea80354",
   "metadata": {},
   "outputs": [],
   "source": [
    "cell_columns = [col for col in roi_mean_values.columns if col.startswith(\"cell\")]\n",
    "morton_codes = []\n",
    "# i=0\n",
    "for _, row in roi_mean_values.iterrows():\n",
    "    value = calculateMortonFromList_with_zCurve(row[col] for col in cell_columns)\n",
    "    frame = row['frame']\n",
    "    morton_codes.append({'frame': frame, 'morton': value})\n",
    "#     i+=1\n",
    "#     if i > 30:\n",
    "#         break\n",
    "# print(morton_codes)\n",
    "morton_codes = pd.DataFrame(morton_codes, columns=['frame', 'morton'])\n",
    "morton_codes.to_csv('../outputs/morton_codes_all.csv', sep=';', index=False)"
   ]
  },
  {
   "cell_type": "markdown",
   "id": "6d80e913-9140-490e-ab32-de6fd13861bc",
   "metadata": {},
   "source": [
    "### Above is giving the 6 roi cell vlaues all to the SFC, no other processes to the roi_mean_values. \n",
    "\n",
    "### However, originally there is a process to roi_mean_valaues are only keep the maximum cell_values of threshhold 0.2, then put all other cell_valeus to 0. Then feed all values to the SFC. In following, do this process. "
   ]
  },
  {
   "cell_type": "code",
   "execution_count": 7,
   "id": "ae2394af-36be-4dec-8ce2-459e00284861",
   "metadata": {},
   "outputs": [],
   "source": [
    "threshold = 0.2\n",
    "def morton_computing(row):\n",
    "    cell_values_frame = row[1:]\n",
    "    max_ind = np.argmax(cell_values_frame)\n",
    "    cell_values_frame_0 = np.zeros_like(cell_values_frame)\n",
    "    cell_values_frame_0[max_ind] = cell_values_frame[max_ind] if cell_values_frame[max_ind] > threshold else 0.0\n",
    "    morton_value_frame = calculateMortonFromList_with_zCurve(cell_values_frame_0)\n",
    "    frame = row[0]\n",
    "    return frame, morton_value_frame"
   ]
  },
  {
   "cell_type": "code",
   "execution_count": 8,
   "id": "9efbfbcd-7ba2-4fec-899e-df960f205b95",
   "metadata": {},
   "outputs": [],
   "source": [
    "roi_values_numpy = roi_mean_values.to_numpy()\n",
    "morton_codes = []\n",
    "for i in range(len(roi_values_numpy)):\n",
    "    frame, morton_value_frame = morton_computing(roi_values_numpy[i])\n",
    "    morton_codes.append({'frame': frame, 'morton': morton_value_frame})\n",
    "\n",
    "morton_codes = pd.DataFrame(morton_codes, columns=['frame', 'morton'])\n",
    "morton_codes.to_csv('../outputs/morton_codes_all_max_cell_only.csv', index=False)"
   ]
  },
  {
   "cell_type": "code",
   "execution_count": null,
   "id": "86410535-099e-43ce-bae1-4e8d36451776",
   "metadata": {},
   "outputs": [],
   "source": []
  },
  {
   "cell_type": "markdown",
   "id": "c2cf764e-1d88-4f5b-8055-79db619cd972",
   "metadata": {},
   "source": [
    "## Plotting\n",
    "### When saving morton codes, it is one csv with all frmaes. The plotting of the morton is sequence based. Same as ROI plotting"
   ]
  },
  {
   "cell_type": "code",
   "execution_count": 9,
   "id": "e32f8d01-36e4-46f0-ac26-11dde7d45eae",
   "metadata": {},
   "outputs": [],
   "source": [
    "import os\n",
    "import csv\n",
    "import numpy as np\n",
    "import pandas as pd\n",
    "import glob\n",
    "import json \n",
    "import matplotlib.pyplot as plt"
   ]
  },
  {
   "cell_type": "code",
   "execution_count": 10,
   "id": "276c4112-ef2c-4556-a92e-9d0df5db226b",
   "metadata": {
    "scrolled": true
   },
   "outputs": [
    {
     "data": {
      "text/html": [
       "<div>\n",
       "<style scoped>\n",
       "    .dataframe tbody tr th:only-of-type {\n",
       "        vertical-align: middle;\n",
       "    }\n",
       "\n",
       "    .dataframe tbody tr th {\n",
       "        vertical-align: top;\n",
       "    }\n",
       "\n",
       "    .dataframe thead th {\n",
       "        text-align: right;\n",
       "    }\n",
       "</style>\n",
       "<table border=\"1\" class=\"dataframe\">\n",
       "  <thead>\n",
       "    <tr style=\"text-align: right;\">\n",
       "      <th></th>\n",
       "      <th>frame</th>\n",
       "      <th>morton</th>\n",
       "    </tr>\n",
       "  </thead>\n",
       "  <tbody>\n",
       "    <tr>\n",
       "      <th>0</th>\n",
       "      <td>child/Y4kC5HWcultxGWAhuKdZw/cam000006.png</td>\n",
       "      <td>4296032516</td>\n",
       "    </tr>\n",
       "    <tr>\n",
       "      <th>1</th>\n",
       "      <td>child/XpIss6USqq1CvIRb2weqE/cam000280.png</td>\n",
       "      <td>67125252</td>\n",
       "    </tr>\n",
       "    <tr>\n",
       "      <th>2</th>\n",
       "      <td>child/BLt5th4KUYDe4tqqwQEbN/cam000128.png</td>\n",
       "      <td>4294967556</td>\n",
       "    </tr>\n",
       "    <tr>\n",
       "      <th>3</th>\n",
       "      <td>child/1zJO0PfH4rKy8MOl5x5di/cam000035.png</td>\n",
       "      <td>2251808403619848</td>\n",
       "    </tr>\n",
       "    <tr>\n",
       "      <th>4</th>\n",
       "      <td>child/0i0Pv5GElXKQI1OoIHfbY/cam000025.png</td>\n",
       "      <td>562952134467584</td>\n",
       "    </tr>\n",
       "    <tr>\n",
       "      <th>...</th>\n",
       "      <td>...</td>\n",
       "      <td>...</td>\n",
       "    </tr>\n",
       "    <tr>\n",
       "      <th>69296</th>\n",
       "      <td>child/FUTcU9qixnZnRtUKfR73U/cam000022.png</td>\n",
       "      <td>136315392</td>\n",
       "    </tr>\n",
       "    <tr>\n",
       "      <th>69297</th>\n",
       "      <td>child/Hg5IVmPBKY2WzuemE7p6J/cam000033.png</td>\n",
       "      <td>136314880</td>\n",
       "    </tr>\n",
       "    <tr>\n",
       "      <th>69298</th>\n",
       "      <td>child/4C874IC44CDuep4rdQFIN/cam000171.png</td>\n",
       "      <td>2251808405717512</td>\n",
       "    </tr>\n",
       "    <tr>\n",
       "      <th>69299</th>\n",
       "      <td>child/kJEr4oDRPCYEqv6dQgu6o/cam000043.png</td>\n",
       "      <td>1126174785814788</td>\n",
       "    </tr>\n",
       "    <tr>\n",
       "      <th>69300</th>\n",
       "      <td>child/BfgWgco7fCsDHqwGo90rD/cam000014.png</td>\n",
       "      <td>142937057001472</td>\n",
       "    </tr>\n",
       "  </tbody>\n",
       "</table>\n",
       "<p>69301 rows × 2 columns</p>\n",
       "</div>"
      ],
      "text/plain": [
       "                                           frame            morton\n",
       "0      child/Y4kC5HWcultxGWAhuKdZw/cam000006.png        4296032516\n",
       "1      child/XpIss6USqq1CvIRb2weqE/cam000280.png          67125252\n",
       "2      child/BLt5th4KUYDe4tqqwQEbN/cam000128.png        4294967556\n",
       "3      child/1zJO0PfH4rKy8MOl5x5di/cam000035.png  2251808403619848\n",
       "4      child/0i0Pv5GElXKQI1OoIHfbY/cam000025.png   562952134467584\n",
       "...                                          ...               ...\n",
       "69296  child/FUTcU9qixnZnRtUKfR73U/cam000022.png         136315392\n",
       "69297  child/Hg5IVmPBKY2WzuemE7p6J/cam000033.png         136314880\n",
       "69298  child/4C874IC44CDuep4rdQFIN/cam000171.png  2251808405717512\n",
       "69299  child/kJEr4oDRPCYEqv6dQgu6o/cam000043.png  1126174785814788\n",
       "69300  child/BfgWgco7fCsDHqwGo90rD/cam000014.png   142937057001472\n",
       "\n",
       "[69301 rows x 2 columns]"
      ]
     },
     "execution_count": 10,
     "metadata": {},
     "output_type": "execute_result"
    }
   ],
   "source": [
    "morton_codes = pd.read_csv('../outputs/morton_codes_all_max_cell_only.csv')\n",
    "morton_codes"
   ]
  },
  {
   "cell_type": "code",
   "execution_count": 11,
   "id": "d9e6b31e-4033-4aeb-9a1e-9aeaddbbd19e",
   "metadata": {},
   "outputs": [],
   "source": [
    "smirk_child = '../datasets/smirk/child/'"
   ]
  },
  {
   "cell_type": "code",
   "execution_count": 44,
   "id": "b9506624-02ab-4337-8a47-d7e85cd87c3a",
   "metadata": {},
   "outputs": [
    {
     "name": "stdout",
     "output_type": "stream",
     "text": [
      "Z8CrcBAx3TYsVgtucXJUV\n",
      "[[54.9755813888], [0.872624948], [0.872415284], [54.975794432], [54.9757943808], [0.8726282752], [55.8347845632], [54.975791156], [54.9755813896], [0.872415232], [0.0136314888], [0.8589935112], [0.8592031744], [0.0134217736], [0.000212992], [3.3288e-06], [0.0134217736], [0.000213044], [0.0002130432], [0.0134217736], [0.000212992], [0.000209716], [0.0002097664], [0.000212992], [0.000209716], [3.3288e-06], [0.0002129928], [0.0001048832], [0.0001064964], [0.0067109124], [0.0001064964], [0.0068174084], [0.0067108864], [0.006710912], [0.0068157444], [0.006817408], [0.4294967296]]\n"
     ]
    },
    {
     "data": {
      "image/png": "[encoded data removed]",
      "text/plain": [
       "<Figure size 640x480 with 1 Axes>"
      ]
     },
     "metadata": {},
     "output_type": "display_data"
    }
   ],
   "source": [
    "_, ax1 = plt.subplots()\n",
    "ax1.set_xlabel(\"Morton\")\n",
    "ax1.set_ylabel(\"Frequency\")\n",
    "ax1.set_ylim((0, 1))\n",
    "mortons_seq = []\n",
    "for seq in os.listdir(smirk_child):\n",
    "    print(seq)\n",
    "    if os.path.isdir(os.path.join(smirk_child, seq)): # reason for this is there is a labels.csv file in /child, need to skip it.\n",
    "        for anno_frame in sorted(glob.glob(os.path.join(smirk_child, seq, '*.labels.png'))):\n",
    "            rgb_frame = anno_frame.replace('.labels.png', '.png').replace('../datasets/smirk/child', 'child')\n",
    "            morton_frame = morton_codes.set_index('frame').loc[rgb_frame].values.astype(float) / 10000000000\n",
    "            mortons_seq.append(list(morton_frame))\n",
    "       \n",
    "        print(mortons_seq)\n",
    "        ax1.eventplot(mortons_seq, orientation='horizontal', colors=\"red\",lineoffsets=1,linelengths=1)\n",
    "\n",
    "\n",
    "        break"
   ]
  },
  {
   "cell_type": "code",
   "execution_count": 19,
   "id": "31a1a49e-b306-49c8-a1a4-d5540dc55668",
   "metadata": {},
   "outputs": [
    {
     "name": "stdout",
     "output_type": "stream",
     "text": [
      "Z8CrcBAx3TYsVgtucXJUV\n",
      "[[54975581.3888], [872624.948], [872415.284], [54975794.432], [54975794.3808], [872628.2752], [55834784.5632], [54975791.156], [54975581.3896], [872415.232], [13631.4888], [858993.5112], [859203.1744], [13421.7736], [212.992], [3.3288], [13421.7736], [213.044], [213.0432], [13421.7736], [212.992], [209.716], [209.7664], [212.992], [209.716], [3.3288], [212.9928], [104.8832], [106.4964], [6710.9124], [106.4964], [6817.4084], [6710.8864], [6710.912], [6815.7444], [6817.408], [429496.7296]]\n"
     ]
    },
    {
     "data": {
      "image/png": "[encoded data removed]",
      "text/plain": [
       "<Figure size 640x480 with 2 Axes>"
      ]
     },
     "metadata": {},
     "output_type": "display_data"
    }
   ],
   "source": [
    "_, ax1 = plt.subplots()\n",
    "ax1.set_xlabel(\"Morton\")\n",
    "ax1.set_ylabel(\"Frequency\")\n",
    "#ax1.set_ylim((0, 1))\n",
    "mortons_seq = []\n",
    "for seq in os.listdir(smirk_child):\n",
    "    print(seq)\n",
    "    if os.path.isdir(os.path.join(smirk_child, seq)): # reason for this is there is a labels.csv file in /child, need to skip it.\n",
    "        for anno_frame in sorted(glob.glob(os.path.join(smirk_child, seq, '*.labels.png'))):\n",
    "            rgb_frame = anno_frame.replace('.labels.png', '.png').replace('../datasets/smirk/child', 'child')\n",
    "            morton_frame = morton_codes.set_index('frame').loc[rgb_frame].values.astype(float) / 10000\n",
    "            mortons_seq.append(list(morton_frame))\n",
    "       \n",
    "        print(mortons_seq)\n",
    "        ax1.eventplot(mortons_seq, orientation='horizontal', colors=\"red\",lineoffsets=0.5,linelengths=1)\n",
    "\n",
    "        ax2 = ax1.twinx()\n",
    "        for frame_id in range(len(mortons_seq)):\n",
    "            x=mortons_seq[frame_id]\n",
    "            y=frame_id+1\n",
    "            ax2.scatter(x, y, s=5, color='green')\n",
    "            ax2.set_ylabel(\"Frame Number\")\n",
    "            \n",
    "        break"
   ]
  },
  {
   "cell_type": "code",
   "execution_count": 86,
   "id": "441c7f9f-4ae8-45f9-8f86-392ffa1ca35d",
   "metadata": {},
   "outputs": [
    {
     "name": "stdout",
     "output_type": "stream",
     "text": [
      "[1.4297140835331202e-09, 9.007199263260704e-08, 9.007199791743008e-08, 9.007234159872e-08, 9.007233622870049e-08, 9.00719980000256e-08, 1.4297087986896002e-09, 1.4077239335526401e-09, 1.4073802522828802e-09, 1.42936511741952e-09, 9.007199263262753e-08, 9.007199791745057e-08, 1.4297140835328e-09, 9.009398286387233e-08, 9.007234151350273e-08, 9.007233622870049e-08, 1.4293705687248e-09, 1.4073802522624002e-09, 2.2333915136320002e-11, 1.42970879737856e-09, 1.42937057003552e-09, 1.42936520001536e-09, 1.407718482248e-09, 9.007234151481345e-08, 1.4297141674192002e-09, 1.42936520132608e-09, 1.4077238496665601e-09, 2.233919864864e-11, 2.2333915156800002e-11, 1.4293651161088e-09, 1.4073802522828802e-09, 1.4077239348432e-09, 1.40772393353248e-09, 9.007199263262753e-08, 1.42971416739872e-09, 1.42971416610816e-09, 1.4077239348432e-09, 1.40771848093728e-09, 1.4077238509568002e-09, 9.007199263260673e-08, 9.007199254740993e-08, 1.40772385095712e-09, 1.40772393355296e-09, 1.4293652013059202e-09, 1.4297087973990402e-09, 1.4077239348432e-09, 1.40772384966688e-09, 1.4077185648230401e-09, 1.4073749674601602e-09, 1.4077185648438402e-09, 1.4293651161296002e-09, 1.4077185661337601e-09, 9.007199263260673e-08, 9.007199254872065e-08, 7.038592411238401e-10, 7.036901267968001e-10, 7.0385924046864e-10, 7.038592830668801e-10, 7.036901261312001e-10, 4.503599627371536e-08, 7.1485435675648e-10, 7.1485435675648e-10, 4.504699407499264e-08, 4.5047165914972166e-08, 4.5035996274370726e-08, 7.146826006529601e-10, 7.148543574016e-10, 7.0385924113408e-10, 7.146852843520001e-10, 4.504716318934016e-08, 4.5750678831769606e-08, 4.504699411693584e-08, 4.5739686400491687e-08, 4.57396864417792e-08, 4.573968375808017e-08, 7.146852430745601e-10, 7.036901261414401e-10, 7.036874843854401e-10, 7.1468255870976e-10, 4.5046991432591525e-08, 4.5047163231272965e-08, 4.57396837154816e-08, 4.5739686400491687e-08, 4.5739686441789605e-08, 4.5036170756751525e-08, 4.5035996315648005e-08, 7.038592411238401e-10, 7.036901687297601e-10, 7.146825580544e-10, 4.50361681150056e-08, 4.5036170798704644e-08, 4.5047165914972324e-08, 4.504699407433744e-08, 4.50359990000128e-08, 4.5035996315648164e-08, 7.0386196743184e-10, 7.036874424320001e-10, 1.7184129040000002e-13, 1.0995158876320001e-11, 1.116691497984e-11, 1.116964126736e-11, 7.0369016874e-10, 4.5036168114995364e-08, 2.2518084036198403e-08, 3.5742852055552e-10, 2.2517998137180162e-08, 2.2518084057497682e-08, 2.2517999500001282e-08, 3.5742854185472e-10, 2.2523581594665042e-08, 2.2875340758384723e-08, 1.4411518821010688e-06, 1.4411519666788813e-06, 1.4411519666582377e-06, 1.4411518807795354e-06, 2.2875425336530003e-08, 2.286984185806848e-08, 2.2523581615314e-08, 2.287534077902848e-08, 1.4411519666792091e-06, 1.4415038103997696e-06, 1.4411573796592027e-06, 1.4411519680210535e-06, 1.4411574642370152e-06, 2.252358293651968e-08, 2.2875426678374402e-08, 2.2523582936847443e-08, 2.252349703749632e-08, 1.4411519666579048e-06, 1.4411518821007362e-06, 1.4415037244794472e-06, 1.4411573783166978e-06, 2.2869841879040084e-08, 2.2875425315558483e-08, 2.2517999500334083e-08, 2.252358159434248e-08, 3.5184506339328005e-10, 3.51929620562e-10, 3.5184506307072004e-10, 3.5192962023424003e-10, 3.5193098371592e-10, 3.518437208884e-10, 3.518437421876e-10, 5.5834787891200006e-12, 3.5184374185992e-10, 5.5848206336000005e-12, 5.4989003161600005e-12, 8.726282760000001e-14, 8.726282752000001e-14, 8.726249992e-14, 5.4975581388800006e-12, 8.592032256000001e-14, 8.592031752000001e-14, 1.3634816000000001e-15, 4.36207616e-14, 4.3620925440000005e-14, 2.7487790694800002e-12, 2.7487792332800003e-12, 2.7487897190400004e-12, 2.7494606464000004e-12, 2.7917392307200003e-12, 2.7494501606400002e-12, 1.759218606106e-10, 1.7592186060800002e-10, 1.7592253153280003e-10, 1.7596549169156e-10, 1.7592187092996e-10, 1.7867132125188e-10, 1.7871427092740002e-10, 1.12589997500032e-08, 1.7871359983876002e-10, 1.7871426027776e-10, 1.7867132125440001e-10, 1.126174851858688e-08, 1.125899973951492e-08, 1.1434964549798442e-08, 1.143771333918976e-08, 1.143771265777668e-08, 7.20575940379282e-07, 7.205786898399258e-07, 7.207518629108122e-07, 7.205787321080219e-07, 7.205759410505344e-07, 7.205759833289549e-07, 1.1437670379031041e-08, 1.1437712668101162e-08, 1.1437712657612801e-08, 1.14349645496346e-08, 5.717481944597781e-09, 3.6028797019488386e-07, 5.7188563340492805e-09, 5.718856328889601e-09, 3.6028797052518404e-07, 3.602879701949645e-07, 3.6028799166972033e-07, 3.6028936638963715e-07, 3.602879920000205e-07, 3.603759529303258e-07, 3.602893449200448e-07, 5.718856669676821e-09, 3.6037595259994114e-07, 3.6028934457917446e-07, 3.602879920000205e-07, 3.602893449199629e-07, 5.7188563341312e-09, 5.718856328889601e-09, 1.8014467228958723e-07, 1.8014399600005187e-07, 1.8014399600267267e-07, 1.801439960000109e-07, 1.8018865292247106e-07, 1.8014398526521345e-07]\n"
     ]
    },
    {
     "data": {
      "image/png": "[encoded data removed]",
      "text/plain": [
       "<Figure size 640x480 with 2 Axes>"
      ]
     },
     "metadata": {},
     "output_type": "display_data"
    }
   ],
   "source": [
    "_, ax1 = plt.subplots()\n",
    "ax1.set_xlabel(\"Morton\")\n",
    "ax1.set_ylabel(\"Frequency\")\n",
    "ax1.set_ylim((0, 1))\n",
    "mortons_seq = []\n",
    "seq = '9jJxC2pmKULPI8arYKQ5O'\n",
    "if os.path.isdir(os.path.join(smirk_child, seq)): # reason for this is there is a labels.csv file in /child, need to skip it.\n",
    "    for anno_frame in sorted(glob.glob(os.path.join(smirk_child, seq, '*.labels.png'))):\n",
    "        rgb_frame = anno_frame.replace('.labels.png', '.png').replace('../datasets/smirk/child', 'child')\n",
    "        morton_frame = morton_codes.set_index('frame').loc[rgb_frame].values.astype(float) / 100000000000000000000000\n",
    "        mortons_seq.append(morton_frame.item())\n",
    "   \n",
    "    print(mortons_seq)\n",
    "    min_morton = min(mortons_seq)\n",
    "    max_morton = max(mortons_seq)\n",
    "    for i in mortons_seq:\n",
    "        norm_morton_seq = [(i - min_morton) / (max_morton - min_morton)] \n",
    "    ax1.eventplot(mortons_seq, orientation='horizontal', colors=\"red\",lineoffsets=0.5)\n",
    "\n",
    "    ax2 = ax1.twinx()\n",
    "    for frame_id in range(len(mortons_seq)):\n",
    "        x=mortons_seq[frame_id]\n",
    "        y=frame_id+1\n",
    "        ax2.scatter(x, y, s=5, color='green')\n",
    "        ax2.set_ylabel(\"Frame Number\")\n",
    "        "
   ]
  },
  {
   "cell_type": "code",
   "execution_count": null,
   "id": "1ad97a91-c85c-4683-ac15-04cb85203b62",
   "metadata": {},
   "outputs": [],
   "source": []
  }
 ],
 "metadata": {
  "kernelspec": {
   "display_name": "Python 3 (ipykernel)",
   "language": "python",
   "name": "python3"
  },
  "language_info": {
   "codemirror_mode": {
    "name": "ipython",
    "version": 3
   },
   "file_extension": ".py",
   "mimetype": "text/x-python",
   "name": "python",
   "nbconvert_exporter": "python",
   "pygments_lexer": "ipython3",
   "version": "3.9.21"
  }
 },
 "nbformat": 4,
 "nbformat_minor": 5
}
