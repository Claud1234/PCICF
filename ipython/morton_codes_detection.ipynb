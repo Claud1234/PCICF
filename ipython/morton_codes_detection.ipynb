{
 "cells": [
  {
   "cell_type": "code",
   "execution_count": 19,
   "id": "94f21df5-7d5a-43a0-a9ef-0b2d08463444",
   "metadata": {},
   "outputs": [],
   "source": [
    "import os\n",
    "import csv\n",
    "import numpy as np\n",
    "import pandas as pd\n",
    "import glob\n",
    "import json \n",
    "import matplotlib.pyplot as plt\n",
    "from typing import Union, Tuple, List"
   ]
  },
  {
   "cell_type": "code",
   "execution_count": 20,
   "id": "64f4c062-8c1e-4691-9527-be7c8d0230f5",
   "metadata": {},
   "outputs": [],
   "source": [
    "config_path = '../config.json'"
   ]
  },
  {
   "cell_type": "code",
   "execution_count": 21,
   "id": "5b920cdf-404e-4851-8d7f-2eb20f4fbbdf",
   "metadata": {},
   "outputs": [],
   "source": [
    "with open(config_path, 'r') as _f:\n",
    "    config = json.load(_f)"
   ]
  },
  {
   "cell_type": "code",
   "execution_count": 28,
   "id": "ae55e273-8398-4286-92b2-3778c2c2cf7f",
   "metadata": {},
   "outputs": [
    {
     "data": {
      "text/plain": [
       "{'0': [2.7e-07, 5.5e-07],\n",
       " '1': [6.5e-07, 1e-06],\n",
       " '2': [1.44e-06, 1.84e-06],\n",
       " '3': [3.1e-06, 3.5e-06],\n",
       " '4': [6.3e-06, 6.8e-06],\n",
       " '5': [1.28e-05, 1.34e-05]}"
      ]
     },
     "execution_count": 28,
     "metadata": {},
     "output_type": "execute_result"
    }
   ],
   "source": [
    "cell_ranges = config['Morton_Detect'][\"cell_ranges\"]\n",
    "cell_ranges"
   ]
  },
  {
   "cell_type": "code",
   "execution_count": 29,
   "id": "af45c75a-6655-4613-905e-cbf0bfc9954e",
   "metadata": {},
   "outputs": [],
   "source": [
    "def get_matching_cell_key(morton_code: float, cell_ranges: dict) -> Union[int, None]:\n",
    "    for cell, (min_value, max_value) in cell_ranges.items():\n",
    "        if min_value <= morton_code <= max_value:\n",
    "            return cell\n",
    "    return None"
   ]
  },
  {
   "cell_type": "code",
   "execution_count": 31,
   "id": "177a52c7-0c4c-41ac-8b7b-ba58a5809b86",
   "metadata": {},
   "outputs": [
    {
     "data": {
      "text/html": [
       "<div>\n",
       "<style scoped>\n",
       "    .dataframe tbody tr th:only-of-type {\n",
       "        vertical-align: middle;\n",
       "    }\n",
       "\n",
       "    .dataframe tbody tr th {\n",
       "        vertical-align: top;\n",
       "    }\n",
       "\n",
       "    .dataframe thead th {\n",
       "        text-align: right;\n",
       "    }\n",
       "</style>\n",
       "<table border=\"1\" class=\"dataframe\">\n",
       "  <thead>\n",
       "    <tr style=\"text-align: right;\">\n",
       "      <th></th>\n",
       "      <th>frame</th>\n",
       "      <th>morton</th>\n",
       "    </tr>\n",
       "  </thead>\n",
       "  <tbody>\n",
       "    <tr>\n",
       "      <th>0</th>\n",
       "      <td>child/Y4kC5HWcultxGWAhuKdZw/cam000006.png</td>\n",
       "      <td>4296032516</td>\n",
       "    </tr>\n",
       "    <tr>\n",
       "      <th>1</th>\n",
       "      <td>child/XpIss6USqq1CvIRb2weqE/cam000280.png</td>\n",
       "      <td>67125252</td>\n",
       "    </tr>\n",
       "    <tr>\n",
       "      <th>2</th>\n",
       "      <td>child/BLt5th4KUYDe4tqqwQEbN/cam000128.png</td>\n",
       "      <td>4294967556</td>\n",
       "    </tr>\n",
       "    <tr>\n",
       "      <th>3</th>\n",
       "      <td>child/1zJO0PfH4rKy8MOl5x5di/cam000035.png</td>\n",
       "      <td>2251808403619848</td>\n",
       "    </tr>\n",
       "    <tr>\n",
       "      <th>4</th>\n",
       "      <td>child/0i0Pv5GElXKQI1OoIHfbY/cam000025.png</td>\n",
       "      <td>562952134467584</td>\n",
       "    </tr>\n",
       "    <tr>\n",
       "      <th>...</th>\n",
       "      <td>...</td>\n",
       "      <td>...</td>\n",
       "    </tr>\n",
       "    <tr>\n",
       "      <th>69296</th>\n",
       "      <td>child/FUTcU9qixnZnRtUKfR73U/cam000022.png</td>\n",
       "      <td>136315392</td>\n",
       "    </tr>\n",
       "    <tr>\n",
       "      <th>69297</th>\n",
       "      <td>child/Hg5IVmPBKY2WzuemE7p6J/cam000033.png</td>\n",
       "      <td>136314880</td>\n",
       "    </tr>\n",
       "    <tr>\n",
       "      <th>69298</th>\n",
       "      <td>child/4C874IC44CDuep4rdQFIN/cam000171.png</td>\n",
       "      <td>2251808405717512</td>\n",
       "    </tr>\n",
       "    <tr>\n",
       "      <th>69299</th>\n",
       "      <td>child/kJEr4oDRPCYEqv6dQgu6o/cam000043.png</td>\n",
       "      <td>1126174785814788</td>\n",
       "    </tr>\n",
       "    <tr>\n",
       "      <th>69300</th>\n",
       "      <td>child/BfgWgco7fCsDHqwGo90rD/cam000014.png</td>\n",
       "      <td>142937057001472</td>\n",
       "    </tr>\n",
       "  </tbody>\n",
       "</table>\n",
       "<p>69301 rows × 2 columns</p>\n",
       "</div>"
      ],
      "text/plain": [
       "                                           frame            morton\n",
       "0      child/Y4kC5HWcultxGWAhuKdZw/cam000006.png        4296032516\n",
       "1      child/XpIss6USqq1CvIRb2weqE/cam000280.png          67125252\n",
       "2      child/BLt5th4KUYDe4tqqwQEbN/cam000128.png        4294967556\n",
       "3      child/1zJO0PfH4rKy8MOl5x5di/cam000035.png  2251808403619848\n",
       "4      child/0i0Pv5GElXKQI1OoIHfbY/cam000025.png   562952134467584\n",
       "...                                          ...               ...\n",
       "69296  child/FUTcU9qixnZnRtUKfR73U/cam000022.png         136315392\n",
       "69297  child/Hg5IVmPBKY2WzuemE7p6J/cam000033.png         136314880\n",
       "69298  child/4C874IC44CDuep4rdQFIN/cam000171.png  2251808405717512\n",
       "69299  child/kJEr4oDRPCYEqv6dQgu6o/cam000043.png  1126174785814788\n",
       "69300  child/BfgWgco7fCsDHqwGo90rD/cam000014.png   142937057001472\n",
       "\n",
       "[69301 rows x 2 columns]"
      ]
     },
     "execution_count": 31,
     "metadata": {},
     "output_type": "execute_result"
    }
   ],
   "source": [
    "morton_codes = pd.read_csv('../outputs/morton_codes_all_max_cell_only.csv') # The csv only keep max_value_cell, put others to 0\n",
    "morton_codes"
   ]
  },
  {
   "cell_type": "code",
   "execution_count": 32,
   "id": "bcefc70e-51be-49e8-9d8d-b11d38db43f4",
   "metadata": {},
   "outputs": [
    {
     "name": "stdout",
     "output_type": "stream",
     "text": [
      "child/Y4kC5HWcultxGWAhuKdZw/cam000006.png\n",
      "0.4296032516\n",
      "None\n"
     ]
    }
   ],
   "source": [
    "for i, row in morton_codes.iterrows():\n",
    "    current_frame = row['frame']\n",
    "    print(current_frame)\n",
    "    print(int(row['morton']) / 10000000000)\n",
    "    current_cell_key = get_matching_cell_key(int(row['morton']) / 10000000000, cell_ranges)\n",
    "    print(current_cell_key)\n",
    "    break\n",
    "    "
   ]
  },
  {
   "cell_type": "code",
   "execution_count": 33,
   "id": "fe1eb21e-c66c-4564-ad8c-f6ebe29e26a4",
   "metadata": {},
   "outputs": [],
   "source": [
    "smirk_child = '../datasets/smirk/child/'"
   ]
  },
  {
   "cell_type": "code",
   "execution_count": 37,
   "id": "58c9ed9d-4df0-48e5-8e6f-e9d7438aff66",
   "metadata": {},
   "outputs": [],
   "source": [
    "if not os.path.exists('../outputs/smirk_seq_cell_key'):\n",
    "    os.makedirs('../outputs/smirk_seq_cell_key')"
   ]
  },
  {
   "cell_type": "code",
   "execution_count": 47,
   "id": "80e5a5e2-c4d7-48bb-b850-e9a85425da16",
   "metadata": {},
   "outputs": [
    {
     "name": "stdout",
     "output_type": "stream",
     "text": [
      "Processing seq Y4kC5HWcultxGWAhuKdZw..."
     ]
    }
   ],
   "source": [
    "for seq in os.listdir(smirk_child):\n",
    "    mortons_seq = []\n",
    "    frame_id = 0\n",
    "    print(f'Processing seq {seq}...', end='\\r', flush=True)\n",
    "    if os.path.isdir(os.path.join(smirk_child, seq)): # reason for this is there is a labels.csv file in /child, need to skip it.\n",
    "        for anno_frame in sorted(glob.glob(os.path.join(smirk_child, seq, '*.labels.png'))):\n",
    "            rgb_frame = anno_frame.replace('.labels.png', '.png').replace('../datasets/smirk/child', 'child')\n",
    "            morton_code_frame = morton_codes.set_index('frame').loc[rgb_frame].values.astype(float) / 10000000000\n",
    "            current_cell_key = get_matching_cell_key(morton_code_frame, cell_ranges)\n",
    "            # print(morton_frame)\n",
    "            # print(current_cell_key)\n",
    "            mortons_seq.append({'frame_id': frame_id, 'frame': rgb_frame, 'cell_key': current_cell_key, 'morton_code': morton_code_frame.item()})\n",
    "            frame_id += 1\n",
    "    seq_cell_key = pd.DataFrame(mortons_seq, columns=['frame_id', 'frame', 'cell_key', 'morton_code'])\n",
    "    seq_cell_key.to_csv(os.path.join('../outputs/smirk_seq_cell_key', f'{seq}.csv'), index=False)"
   ]
  },
  {
   "cell_type": "code",
   "execution_count": null,
   "id": "2a461e24-d1ed-4bf8-980f-574588b89f4e",
   "metadata": {},
   "outputs": [],
   "source": []
  },
  {
   "cell_type": "code",
   "execution_count": null,
   "id": "ec31057e-ab98-4056-b6ac-685c29abe6a5",
   "metadata": {},
   "outputs": [],
   "source": []
  },
  {
   "cell_type": "code",
   "execution_count": null,
   "id": "d2066dfe-e90f-4972-8c1d-ae703d6751dd",
   "metadata": {},
   "outputs": [],
   "source": []
  },
  {
   "cell_type": "code",
   "execution_count": null,
   "id": "bc74a58d-5eb0-45a9-a49a-c9d998c78d05",
   "metadata": {},
   "outputs": [],
   "source": []
  },
  {
   "cell_type": "code",
   "execution_count": null,
   "id": "1261d84b-3c41-44f8-bdfa-2c18f91ea6b3",
   "metadata": {},
   "outputs": [],
   "source": []
  },
  {
   "cell_type": "code",
   "execution_count": null,
   "id": "5c11760a-4986-4d56-8ff8-c565088d8702",
   "metadata": {},
   "outputs": [],
   "source": []
  },
  {
   "cell_type": "code",
   "execution_count": null,
   "id": "782cf368-3f67-40f2-aed9-945194ab1dbf",
   "metadata": {},
   "outputs": [],
   "source": []
  },
  {
   "cell_type": "code",
   "execution_count": 60,
   "id": "fd9ed9a0-3b9c-41d6-acf4-fe98972284bf",
   "metadata": {},
   "outputs": [],
   "source": [
    "class Sequence:\n",
    "    def __init__(self, path, direction, interrupts=0):\n",
    "        self.path = path\n",
    "        self.interrupts = interrupts\n",
    "        self.active = True\n",
    "        self.direction = direction"
   ]
  },
  {
   "cell_type": "code",
   "execution_count": 87,
   "id": "07390938-19d6-42df-baff-92a8ab8a2570",
   "metadata": {},
   "outputs": [
    {
     "data": {
      "text/plain": [
       "[1, 1]"
      ]
     },
     "execution_count": 87,
     "metadata": {},
     "output_type": "execute_result"
    }
   ],
   "source": [
    "seq = Sequence([1,1], 'left')\n",
    "seq.path"
   ]
  },
  {
   "cell_type": "code",
   "execution_count": 71,
   "id": "2f2d9b4c-c1fc-4878-b11c-8496502c4feb",
   "metadata": {},
   "outputs": [
    {
     "name": "stdout",
     "output_type": "stream",
     "text": [
      "ss\n"
     ]
    }
   ],
   "source": [
    "a: List[Sequence] = []\n",
    "if not a:\n",
    "    print('ss')"
   ]
  },
  {
   "cell_type": "code",
   "execution_count": null,
   "id": "9e4d25c5-fc63-4a4d-a1f5-af4fd06fe56e",
   "metadata": {},
   "outputs": [],
   "source": []
  },
  {
   "cell_type": "code",
   "execution_count": 156,
   "id": "1d66aeb1-fa2b-40c6-b3b9-d08cd02fcf93",
   "metadata": {},
   "outputs": [],
   "source": [
    "path = [[1,1],[1,2],[2,3],[2,4],[2,5],[3,6],[4,7],[4,8],[5,9]]\n",
    "# path = [[1,1],[1,2],[2,3],[2,4]]"
   ]
  },
  {
   "cell_type": "code",
   "execution_count": 166,
   "id": "b0e03d2a-89a1-482f-824b-a960460d2e09",
   "metadata": {},
   "outputs": [],
   "source": [
    "def get_ordered_sequences(path: List[Tuple[int, int]], direction: str, tolerance=1):\n",
    "    # TODO rename active_sequences\n",
    "    active_sequences: List[Sequence] = []\n",
    "    ordered_sequences: List[Sequence] = []\n",
    "    # print(active_sequences)\n",
    "\n",
    "    for node in path:\n",
    "        # print(node)\n",
    "        has_created_new_sequence = False\n",
    "\n",
    "        if not active_sequences:\n",
    "           \n",
    "            seq = Sequence([node], direction)\n",
    "            active_sequences.append(seq)\n",
    "            print('I am here')\n",
    "            for i in active_sequences:\n",
    "                print(i.path)\n",
    "            has_created_new_sequence = True\n",
    "            continue\n",
    "\n",
    "        active_sequences_copy = active_sequences.copy()\n",
    "\n",
    "        for active_seq in active_sequences_copy:\n",
    "            if not active_seq.active:\n",
    "                continue\n",
    "\n",
    "            prev = active_seq.path[-1]\n",
    "\n",
    "            if node[0] > prev[0] and direction == \"left\":\n",
    "                active_seq.path.append(node)\n",
    "            elif node[0] < prev[0] and direction == \"right\":\n",
    "                active_seq.path.append(node)\n",
    "            elif node[0] == prev[0]:\n",
    "                frame_diff = abs(node[1] - prev[1])\n",
    "\n",
    "                if frame_diff > 1:   # frame_amount / fps\n",
    "                    active_seq.active = False\n",
    "                    ordered_sequences.append(active_seq)\n",
    "\n",
    "                    seq = Sequence([node], direction)\n",
    "                    active_sequences.append(seq)\n",
    "\n",
    "                    # print(len(active_sequences))\n",
    "                    has_created_new_sequence = True\n",
    "            else:\n",
    "                active_seq.interrupts += 1\n",
    "\n",
    "                if active_seq.interrupts > tolerance:\n",
    "                    active_seq.active = False\n",
    "                    ordered_sequences.append(active_seq)\n",
    "\n",
    "                if has_created_new_sequence:\n",
    "                    continue\n",
    "\n",
    "                seq = Sequence([node], direction)\n",
    "                active_sequences.append(seq)\n",
    "                has_created_new_sequence = True\n",
    "\n",
    "    for active_seq in active_sequences:\n",
    "        if len(active_seq.path) > 1 and active_seq.active:\n",
    "            # print(len(active_seq.path))\n",
    "            # print(len(active_sequences))\n",
    "            # print(active_seq.active)\n",
    "            ordered_sequences.append(active_seq)\n",
    "            active_seq.active = False\n",
    "\n",
    "    return ordered_sequences"
   ]
  },
  {
   "cell_type": "code",
   "execution_count": 167,
   "id": "9222ad00-6805-45b3-a30a-ece8f94c2259",
   "metadata": {},
   "outputs": [
    {
     "name": "stdout",
     "output_type": "stream",
     "text": [
      "I am here\n",
      "[[1, 1]]\n",
      "herhe [[1, 1], [2, 3]]\n",
      "herhe [[2, 5], [3, 6], [4, 7], [5, 9]]\n"
     ]
    }
   ],
   "source": [
    "ordered_sequences = get_ordered_sequences(path, 'left')\n",
    "for i in ordered_sequences:\n",
    "    print('herhe', i.path)"
   ]
  },
  {
   "cell_type": "code",
   "execution_count": 173,
   "id": "2550bc41-7b91-4cfe-b987-77f50b5756fe",
   "metadata": {},
   "outputs": [
    {
     "data": {
      "text/plain": [
       "[{1, 2, 3}, {4, 5, 6}]"
      ]
     },
     "execution_count": 173,
     "metadata": {},
     "output_type": "execute_result"
    }
   ],
   "source": [
    "required_cell_subsets = config['detector_config']['required_cell_subsets']\n",
    "required_cell_subsets"
   ]
  },
  {
   "cell_type": "code",
   "execution_count": 170,
   "id": "2539167c-dfa2-4bb3-8286-cf27dcf1a217",
   "metadata": {},
   "outputs": [],
   "source": [
    "sequence_path = [[2, 5], [3, 6], [4, 7], [5, 9]]"
   ]
  },
  {
   "cell_type": "code",
   "execution_count": 171,
   "id": "51d8e108-ce3b-47ec-863d-7e88a36b8c84",
   "metadata": {},
   "outputs": [
    {
     "data": {
      "text/plain": [
       "{2, 3, 4, 5}"
      ]
     },
     "execution_count": 171,
     "metadata": {},
     "output_type": "execute_result"
    }
   ],
   "source": [
    "unique_cells = {s[0] for s in sequence_path}\n",
    "unique_cells"
   ]
  },
  {
   "cell_type": "code",
   "execution_count": 176,
   "id": "08488f8d-d898-4ba2-89f5-b49e7670757c",
   "metadata": {},
   "outputs": [
    {
     "name": "stdout",
     "output_type": "stream",
     "text": [
      "2\n",
      "2\n"
     ]
    }
   ],
   "source": [
    "for required_cell_subset in required_cell_subsets:\n",
    "    count = len(required_cell_subset & unique_cells)\n",
    "    print(count)"
   ]
  },
  {
   "cell_type": "code",
   "execution_count": 195,
   "id": "5acca96a-a0ce-46f9-a05a-53bd3b056358",
   "metadata": {},
   "outputs": [
    {
     "data": {
      "text/plain": [
       "[[3, 3], [4, 4], [5, 5]]"
      ]
     },
     "execution_count": 195,
     "metadata": {},
     "output_type": "execute_result"
    }
   ],
   "source": [
    "a = [[1,1],[2,2],[3,3],[4,4],[5,5]]\n",
    "b = [[1,1],[2,2]]\n",
    "for i in b:\n",
    "    a.remove(i)\n",
    "a"
   ]
  },
  {
   "cell_type": "code",
   "execution_count": null,
   "id": "6a8407da-4135-40dc-8afc-90c7333a9327",
   "metadata": {},
   "outputs": [],
   "source": []
  },
  {
   "cell_type": "code",
   "execution_count": null,
   "id": "b15e4138-565d-4c5f-98a5-25b47c32d911",
   "metadata": {},
   "outputs": [],
   "source": []
  },
  {
   "cell_type": "code",
   "execution_count": null,
   "id": "6ee5be2d-5f1b-47ed-b4c8-9a0907f4b9e2",
   "metadata": {},
   "outputs": [],
   "source": []
  },
  {
   "cell_type": "code",
   "execution_count": null,
   "id": "739ed966-4c1a-4bfe-9b4d-5507f3aa5ded",
   "metadata": {},
   "outputs": [],
   "source": []
  },
  {
   "cell_type": "code",
   "execution_count": null,
   "id": "9e5069f1-2724-4cfc-9e8d-480d49a7ce2c",
   "metadata": {},
   "outputs": [],
   "source": []
  },
  {
   "cell_type": "code",
   "execution_count": null,
   "id": "8e95734e-c2e2-4fb0-80b5-7760c8275d7f",
   "metadata": {},
   "outputs": [],
   "source": []
  },
  {
   "cell_type": "code",
   "execution_count": null,
   "id": "82e6587b-f0a0-4f13-a54c-06e9a10c4208",
   "metadata": {},
   "outputs": [],
   "source": []
  },
  {
   "cell_type": "code",
   "execution_count": 28,
   "id": "e53cdaf4-3042-4c67-84a7-6a07ba745b2e",
   "metadata": {},
   "outputs": [
    {
     "name": "stdout",
     "output_type": "stream",
     "text": [
      "start 1\n",
      "prev [1, 1]\n",
      "node0 1\n",
      "prev0 1\n",
      "frame_diff: 0\n",
      "iiii: [[1, 1]]\n",
      "start 2\n",
      "prev [1, 1]\n",
      "node0 1\n",
      "prev0 1\n",
      "frame_diff: 1\n",
      "iiii: [[1, 1]]\n",
      "prev [1, 2]\n",
      "node0 1\n",
      "prev0 1\n",
      "frame_diff: 0\n",
      "iiii: [[1, 2]]\n",
      "start 3\n",
      "prev [1, 1]\n",
      "node0 2\n",
      "prev0 1\n",
      "frame_diff: 0\n",
      "iiii: [[1, 1], [2, 3]]\n",
      "prev [1, 2]\n",
      "node0 2\n",
      "prev0 1\n",
      "frame_diff: 0\n",
      "iiii: [[1, 2], [2, 3]]\n",
      "prev [2, 3]\n",
      "node0 2\n",
      "prev0 2\n",
      "frame_diff: 0\n",
      "iiii: [[2, 3]]\n",
      "start 4\n",
      "prev [2, 3]\n",
      "node0 2\n",
      "prev0 2\n",
      "frame_diff: 1\n",
      "iiii: [[1, 1], [2, 3]]\n",
      "prev [2, 3]\n",
      "node0 2\n",
      "prev0 2\n",
      "frame_diff: 1\n",
      "iiii: [[1, 2], [2, 3]]\n",
      "prev [2, 3]\n",
      "node0 2\n",
      "prev0 2\n",
      "frame_diff: 1\n",
      "iiii: [[2, 3]]\n",
      "prev [2, 4]\n",
      "node0 2\n",
      "prev0 2\n",
      "frame_diff: 0\n",
      "iiii: [[2, 4]]\n",
      "start 5\n",
      "prev [2, 3]\n",
      "node0 2\n",
      "prev0 2\n",
      "frame_diff: 2\n",
      "iiii: [[1, 1], [2, 3]]\n",
      "prev [2, 3]\n",
      "node0 2\n",
      "prev0 2\n",
      "frame_diff: 2\n",
      "iiii: [[1, 2], [2, 3]]\n",
      "prev [2, 3]\n",
      "node0 2\n",
      "prev0 2\n",
      "frame_diff: 2\n",
      "iiii: [[2, 3]]\n",
      "prev [2, 4]\n",
      "node0 2\n",
      "prev0 2\n",
      "frame_diff: 1\n",
      "iiii: [[2, 4]]\n",
      "prev [2, 5]\n",
      "node0 2\n",
      "prev0 2\n",
      "frame_diff: 0\n",
      "iiii: [[2, 5]]\n",
      "start 6\n",
      "prev [2, 3]\n",
      "node0 3\n",
      "prev0 2\n",
      "frame_diff: 0\n",
      "iiii: [[1, 1], [2, 3], [3, 6]]\n",
      "prev [2, 3]\n",
      "node0 3\n",
      "prev0 2\n",
      "frame_diff: 0\n",
      "iiii: [[1, 2], [2, 3], [3, 6]]\n",
      "prev [2, 3]\n",
      "node0 3\n",
      "prev0 2\n",
      "frame_diff: 0\n",
      "iiii: [[2, 3], [3, 6]]\n",
      "prev [2, 4]\n",
      "node0 3\n",
      "prev0 2\n",
      "frame_diff: 0\n",
      "iiii: [[2, 4], [3, 6]]\n",
      "prev [2, 5]\n",
      "node0 3\n",
      "prev0 2\n",
      "frame_diff: 0\n",
      "iiii: [[2, 5], [3, 6]]\n",
      "prev [3, 6]\n",
      "node0 3\n",
      "prev0 3\n",
      "frame_diff: 0\n",
      "iiii: [[3, 6]]\n",
      "start 7\n",
      "prev [3, 6]\n",
      "node0 4\n",
      "prev0 3\n",
      "frame_diff: 0\n",
      "iiii: [[1, 1], [2, 3], [3, 6], [4, 7]]\n",
      "prev [3, 6]\n",
      "node0 4\n",
      "prev0 3\n",
      "frame_diff: 0\n",
      "iiii: [[1, 2], [2, 3], [3, 6], [4, 7]]\n",
      "prev [3, 6]\n",
      "node0 4\n",
      "prev0 3\n",
      "frame_diff: 0\n",
      "iiii: [[2, 3], [3, 6], [4, 7]]\n",
      "prev [3, 6]\n",
      "node0 4\n",
      "prev0 3\n",
      "frame_diff: 0\n",
      "iiii: [[2, 4], [3, 6], [4, 7]]\n",
      "prev [3, 6]\n",
      "node0 4\n",
      "prev0 3\n",
      "frame_diff: 0\n",
      "iiii: [[2, 5], [3, 6], [4, 7]]\n",
      "prev [3, 6]\n",
      "node0 4\n",
      "prev0 3\n",
      "frame_diff: 0\n",
      "iiii: [[3, 6], [4, 7]]\n",
      "prev [4, 7]\n",
      "node0 4\n",
      "prev0 4\n",
      "frame_diff: 0\n",
      "iiii: [[4, 7]]\n",
      "start 8\n",
      "prev [4, 7]\n",
      "node0 4\n",
      "prev0 4\n",
      "frame_diff: 1\n",
      "iiii: [[1, 1], [2, 3], [3, 6], [4, 7]]\n",
      "prev [4, 7]\n",
      "node0 4\n",
      "prev0 4\n",
      "frame_diff: 1\n",
      "iiii: [[1, 2], [2, 3], [3, 6], [4, 7]]\n",
      "prev [4, 7]\n",
      "node0 4\n",
      "prev0 4\n",
      "frame_diff: 1\n",
      "iiii: [[2, 3], [3, 6], [4, 7]]\n",
      "prev [4, 7]\n",
      "node0 4\n",
      "prev0 4\n",
      "frame_diff: 1\n",
      "iiii: [[2, 4], [3, 6], [4, 7]]\n",
      "prev [4, 7]\n",
      "node0 4\n",
      "prev0 4\n",
      "frame_diff: 1\n",
      "iiii: [[2, 5], [3, 6], [4, 7]]\n",
      "prev [4, 7]\n",
      "node0 4\n",
      "prev0 4\n",
      "frame_diff: 1\n",
      "iiii: [[3, 6], [4, 7]]\n",
      "prev [4, 7]\n",
      "node0 4\n",
      "prev0 4\n",
      "frame_diff: 1\n",
      "iiii: [[4, 7]]\n",
      "prev [4, 8]\n",
      "node0 4\n",
      "prev0 4\n",
      "frame_diff: 0\n",
      "iiii: [[4, 8]]\n",
      "start 9\n",
      "prev [4, 7]\n",
      "node0 5\n",
      "prev0 4\n",
      "frame_diff: 0\n",
      "iiii: [[1, 1], [2, 3], [3, 6], [4, 7], [5, 9]]\n",
      "prev [4, 7]\n",
      "node0 5\n",
      "prev0 4\n",
      "frame_diff: 0\n",
      "iiii: [[1, 2], [2, 3], [3, 6], [4, 7], [5, 9]]\n",
      "prev [4, 7]\n",
      "node0 5\n",
      "prev0 4\n",
      "frame_diff: 0\n",
      "iiii: [[2, 3], [3, 6], [4, 7], [5, 9]]\n",
      "prev [4, 7]\n",
      "node0 5\n",
      "prev0 4\n",
      "frame_diff: 0\n",
      "iiii: [[2, 4], [3, 6], [4, 7], [5, 9]]\n",
      "prev [4, 7]\n",
      "node0 5\n",
      "prev0 4\n",
      "frame_diff: 0\n",
      "iiii: [[2, 5], [3, 6], [4, 7], [5, 9]]\n",
      "prev [4, 7]\n",
      "node0 5\n",
      "prev0 4\n",
      "frame_diff: 0\n",
      "iiii: [[3, 6], [4, 7], [5, 9]]\n",
      "prev [4, 7]\n",
      "node0 5\n",
      "prev0 4\n",
      "frame_diff: 0\n",
      "iiii: [[4, 7], [5, 9]]\n",
      "prev [4, 8]\n",
      "node0 5\n",
      "prev0 4\n",
      "frame_diff: 0\n",
      "iiii: [[4, 8], [5, 9]]\n",
      "prev [5, 9]\n",
      "node0 5\n",
      "prev0 5\n",
      "frame_diff: 0\n",
      "iiii: [[5, 9]]\n"
     ]
    }
   ],
   "source": [
    "count = 0\n",
    "active_path = []\n",
    "ordered_path = []\n",
    "direction = 'left'\n",
    "for node in path:\n",
    "    seq = Sequence([node], direction)\n",
    "    active_path.append(seq)    \n",
    "    print('start',len(active_path))\n",
    "    \n",
    "    for i in active_path:\n",
    "        \n",
    "        if not i.active:\n",
    "            continue\n",
    "            \n",
    "        prev = i.path[-1]\n",
    "        print('prev',prev)\n",
    "        print('node0', node[0])\n",
    "        print('prev0',prev[0])\n",
    "        if node[0] == prev[0]:\n",
    "             frame_diff = abs(node[1] - prev[1])\n",
    "\n",
    "             if frame_diff / 10 > 3:\n",
    "                i.active = False\n",
    "                ordered_path.append(i)\n",
    "                seq = Sequence([node], direction)\n",
    "                active_sequences.append(seq)\n",
    "                has_created_new_sequence = True\n",
    "           \n",
    "        if node[0] > prev[0] and direction == \"left\":\n",
    "            i.path.append(node)\n",
    "        elif node[0] < prev[0] and direction == \"right\":\n",
    "            i.path.append(node)\n",
    "        else:\n",
    "            i.interrupts += 1\n",
    "\n",
    "            if i.interrupts > 5: # 5 is the tolarence\n",
    "                i.active = False \n",
    "                ordered_path.append(i)\n",
    "        \n",
    "        print('frame_diff:', frame_diff)\n",
    "        print('iiii:',i.path)\n",
    "    count+=1\n",
    "\n",
    "    if count == 9:\n",
    "        break\n",
    "    "
   ]
  },
  {
   "cell_type": "code",
   "execution_count": 88,
   "id": "18da3203-33a7-4c5e-8da6-bbec380aa0dc",
   "metadata": {},
   "outputs": [
    {
     "data": {
      "text/plain": [
       "<__main__.Sequence at 0x7f09a6f0b6d0>"
      ]
     },
     "execution_count": 88,
     "metadata": {},
     "output_type": "execute_result"
    }
   ],
   "source": [
    "i\n"
   ]
  },
  {
   "cell_type": "code",
   "execution_count": 81,
   "id": "6f078dba-df16-44e9-a960-2dc3b96715e7",
   "metadata": {},
   "outputs": [
    {
     "name": "stdout",
     "output_type": "stream",
     "text": [
      "[1, 1]\n",
      "[2, 2]\n",
      "[2, 3]\n",
      "[2, 4]\n",
      "[2, 5]\n",
      "[2, 6]\n",
      "[2, 7]\n",
      "[2, 8]\n",
      "[2, 9]\n"
     ]
    }
   ],
   "source": [
    "for i in a:\n",
    "    prev = i.path[-1]\n",
    "    print(prev)"
   ]
  },
  {
   "cell_type": "code",
   "execution_count": 23,
   "id": "ae1117c7-663c-4e5b-a089-b3cfadf3244f",
   "metadata": {},
   "outputs": [
    {
     "name": "stdout",
     "output_type": "stream",
     "text": [
      "ss\n"
     ]
    }
   ],
   "source": [
    "a = False\n",
    "if not a:\n",
    "    print('ss')"
   ]
  },
  {
   "cell_type": "code",
   "execution_count": null,
   "id": "25198081-feb9-4bcd-b9b5-9d53137a86f3",
   "metadata": {},
   "outputs": [],
   "source": []
  }
 ],
 "metadata": {
  "kernelspec": {
   "display_name": "Python 3 (ipykernel)",
   "language": "python",
   "name": "python3"
  },
  "language_info": {
   "codemirror_mode": {
    "name": "ipython",
    "version": 3
   },
   "file_extension": ".py",
   "mimetype": "text/x-python",
   "name": "python",
   "nbconvert_exporter": "python",
   "pygments_lexer": "ipython3",
   "version": "3.9.21"
  }
 },
 "nbformat": 4,
 "nbformat_minor": 5
}
